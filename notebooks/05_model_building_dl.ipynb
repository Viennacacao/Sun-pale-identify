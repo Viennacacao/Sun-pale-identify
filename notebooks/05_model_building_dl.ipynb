{
 "cells": [
  {
   "cell_type": "code",
   "execution_count": 10,
   "metadata": {},
   "outputs": [
    {
     "name": "stdout",
     "output_type": "stream",
     "text": [
      "(756, 4)\n",
      "Model: \"sequential_2\"\n",
      "_________________________________________________________________\n",
      "Layer (type)                 Output Shape              Param #   \n",
      "=================================================================\n",
      "conv2d_6 (Conv2D)            (None, 298, 298, 32)      896       \n",
      "_________________________________________________________________\n",
      "max_pooling2d_6 (MaxPooling2 (None, 149, 149, 32)      0         \n",
      "_________________________________________________________________\n",
      "conv2d_7 (Conv2D)            (None, 147, 147, 64)      18496     \n",
      "_________________________________________________________________\n",
      "max_pooling2d_7 (MaxPooling2 (None, 73, 73, 64)        0         \n",
      "_________________________________________________________________\n",
      "conv2d_8 (Conv2D)            (None, 71, 71, 128)       73856     \n",
      "_________________________________________________________________\n",
      "max_pooling2d_8 (MaxPooling2 (None, 35, 35, 128)       0         \n",
      "_________________________________________________________________\n",
      "flatten_8 (Flatten)          (None, 156800)            0         \n",
      "_________________________________________________________________\n",
      "dense_10 (Dense)             (None, 512)               80282112  \n",
      "_________________________________________________________________\n",
      "dropout_4 (Dropout)          (None, 512)               0         \n",
      "_________________________________________________________________\n",
      "dense_11 (Dense)             (None, 4)                 2052      \n",
      "=================================================================\n",
      "Total params: 80,377,412\n",
      "Trainable params: 80,377,412\n",
      "Non-trainable params: 0\n",
      "_________________________________________________________________\n",
      "(756, 300, 300, 3)\n",
      "Test Loss: 0.7846164703369141\n",
      "Test Accuracy: 0.7182539701461792\n",
      "              precision    recall  f1-score   support\n",
      "\n",
      "           0       0.66      0.96      0.78       377\n",
      "           1       0.94      0.30      0.45       100\n",
      "           2       0.96      0.70      0.81       100\n",
      "           3       0.81      0.45      0.58       179\n",
      "\n",
      "    accuracy                           0.72       756\n",
      "   macro avg       0.84      0.60      0.66       756\n",
      "weighted avg       0.77      0.72      0.69       756\n",
      "\n"
     ]
    }
   ],
   "source": [
    "\" cnn normal predict\"\n",
    "\n",
    "import numpy as np\n",
    "from tensorflow.keras.models import load_model\n",
    "from tensorflow.keras.utils import to_categorical\n",
    "from sklearn.metrics import classification_report\n",
    "import numpy as np\n",
    "\n",
    "# Set the directory path containing the test data\n",
    "data_dir = '../data/processed/'\n",
    "\n",
    "# Load the test data\n",
    "X_test = np.load(data_dir + 'X_test_cs.npy')\n",
    "y_test = np.load(data_dir + 'y_test_cs.npy', allow_pickle=True)\n",
    "\n",
    "# Load the CNN model\n",
    "model_cnn = load_model('../models/cnn_model.h5')\n",
    "\n",
    "# Ensure the test data has the correct shape\n",
    "if X_test.ndim == 3:\n",
    "    X_test = np.expand_dims(X_test, axis=-1)\n",
    "\n",
    "# Check the model summary\n",
    "# model_cnn.summary()\n",
    "# print(X_test.shape)\n",
    "\n",
    "# Evaluate the CNN model\n",
    "scores = model_cnn.evaluate(X_test, y_test, verbose=0)\n",
    "print(f\"Test Loss: {scores[0]}\")\n",
    "print(f\"Test Accuracy: {scores[1]}\")\n",
    "\n",
    "# Predict and generate a classification report\n",
    "y_pred = model_cnn.predict(X_test)\n",
    "y_pred_classes = np.argmax(y_pred, axis=1)\n",
    "y_test_classes = np.argmax(y_test, axis=1)\n",
    "print(classification_report(y_test_classes, y_pred_classes))\n",
    "\n",
    "\n"
   ]
  },
  {
   "cell_type": "code",
   "execution_count": 13,
   "metadata": {},
   "outputs": [
    {
     "name": "stdout",
     "output_type": "stream",
     "text": [
      "Test Loss: 1.068126916885376\n",
      "Test Accuracy: 0.5899471044540405\n",
      "              precision    recall  f1-score   support\n",
      "\n",
      "           0       0.55      0.98      0.70       369\n",
      "           1       0.91      0.27      0.42       117\n",
      "           2       0.00      0.00      0.00        97\n",
      "           3       0.85      0.31      0.45       173\n",
      "\n",
      "    accuracy                           0.59       756\n",
      "   macro avg       0.58      0.39      0.39       756\n",
      "weighted avg       0.60      0.59      0.51       756\n",
      "\n"
     ]
    },
    {
     "name": "stderr",
     "output_type": "stream",
     "text": [
      "/Users/viennacacao/anaconda3/envs/ca_tfs/lib/python3.7/site-packages/sklearn/metrics/_classification.py:1318: UndefinedMetricWarning: Precision and F-score are ill-defined and being set to 0.0 in labels with no predicted samples. Use `zero_division` parameter to control this behavior.\n",
      "  _warn_prf(average, modifier, msg_start, len(result))\n",
      "/Users/viennacacao/anaconda3/envs/ca_tfs/lib/python3.7/site-packages/sklearn/metrics/_classification.py:1318: UndefinedMetricWarning: Precision and F-score are ill-defined and being set to 0.0 in labels with no predicted samples. Use `zero_division` parameter to control this behavior.\n",
      "  _warn_prf(average, modifier, msg_start, len(result))\n",
      "/Users/viennacacao/anaconda3/envs/ca_tfs/lib/python3.7/site-packages/sklearn/metrics/_classification.py:1318: UndefinedMetricWarning: Precision and F-score are ill-defined and being set to 0.0 in labels with no predicted samples. Use `zero_division` parameter to control this behavior.\n",
      "  _warn_prf(average, modifier, msg_start, len(result))\n"
     ]
    }
   ],
   "source": [
    "\"\"\"cnn_type ptedice \"\"\"\n",
    "\n",
    "from tensorflow.keras.models import load_model\n",
    "from sklearn.metrics import classification_report\n",
    "import numpy as np\n",
    "\n",
    "# Data path\n",
    "data_dir = '../data/processed/'\n",
    "\n",
    "# Load predict data\n",
    "X_test = np.load(data_dir + 'X_test_cs_type.npy')\n",
    "y_test = np.load(data_dir + 'y_test_cs_type.npy', allow_pickle=True)\n",
    "\n",
    "# Load types data\n",
    "types_test = np.load(data_dir + 'types_test_cs_type.npy', allow_pickle=True)\n",
    "\n",
    "# load cnn_multi model\n",
    "model_cnn_multi_input = load_model('../models/cnn_multi_input_model.h5')\n",
    "\n",
    "# evaluate model\n",
    "scores = model_cnn_multi_input.evaluate([X_test, types_test], y_test, verbose=0)\n",
    "print(f\"Test Loss: {scores[0]}\")\n",
    "print(f\"Test Accuracy: {scores[1]}\")\n",
    "\n",
    "# Predict\n",
    "y_pred = model_cnn_multi_input.predict([X_test, types_test])\n",
    "y_pred_classes = np.argmax(y_pred, axis=1)\n",
    "y_test_classes = np.argmax(y_test, axis=1)\n",
    "\n",
    "# Predict and generate a classification report\n",
    "print(classification_report(y_test_classes, y_pred_classes))\n",
    "\n",
    "\n",
    "\n"
   ]
  },
  {
   "cell_type": "code",
   "execution_count": 16,
   "metadata": {},
   "outputs": [
    {
     "name": "stdout",
     "output_type": "stream",
     "text": [
      "10/10 [==============================] - 4s 294ms/step - loss: 0.8348 - accuracy: 0.7085\n",
      "Mono Test Loss: 0.8347570300102234, Mono Test Accuracy: 0.7084745764732361\n",
      "15/15 [==============================] - 5s 300ms/step - loss: 1.2175 - accuracy: 0.5141\n",
      "Poly Test Loss: 1.2174633741378784, Poly Test Accuracy: 0.5140997767448425\n"
     ]
    }
   ],
   "source": [
    "# 分离单晶和多晶数据\n",
    "mono_indices = np.where(types_test == 0)[0]\n",
    "poly_indices = np.where(types_test == 1)[0]\n",
    "\n",
    "X_test_mono = X_test[mono_indices]\n",
    "y_test_mono = y_test[mono_indices]\n",
    "X_test_poly = X_test[poly_indices]\n",
    "y_test_poly = y_test[poly_indices]\n",
    "\n",
    "# 准备类型输入\n",
    "type_input_mono = np.zeros((len(X_test_mono), 1))\n",
    "type_input_poly = np.ones((len(X_test_poly), 1))\n",
    "\n",
    "# 评估单晶电池图像\n",
    "test_loss_mono, test_accuracy_mono = model_cnn_multi_input.evaluate([X_test_mono, type_input_mono], y_test_mono, verbose=1)\n",
    "print(f\"Mono Test Loss: {test_loss_mono}, Mono Test Accuracy: {test_accuracy_mono}\")\n",
    "\n",
    "# 评估多晶电池图像\n",
    "test_loss_poly, test_accuracy_poly = model_cnn_multi_input.evaluate([X_test_poly, type_input_poly], y_test_poly, verbose=1)\n",
    "print(f\"Poly Test Loss: {test_loss_poly}, Poly Test Accuracy: {test_accuracy_poly}\")"
   ]
  },
  {
   "cell_type": "code",
   "execution_count": 17,
   "metadata": {},
   "outputs": [
    {
     "name": "stdout",
     "output_type": "stream",
     "text": [
      "Test Loss: 0.7479132413864136\n",
      "Test Accuracy: 0.7394179701805115\n",
      "              precision    recall  f1-score   support\n",
      "\n",
      "           0       0.67      0.96      0.79       369\n",
      "           1       0.97      0.30      0.46       117\n",
      "           2       0.97      0.77      0.86        97\n",
      "           3       0.82      0.54      0.65       173\n",
      "\n",
      "    accuracy                           0.74       756\n",
      "   macro avg       0.86      0.64      0.69       756\n",
      "weighted avg       0.79      0.74      0.72       756\n",
      "\n"
     ]
    }
   ],
   "source": [
    "\"\"\"cnn_type_pc predict \"\"\"\n",
    "\n",
    "from tensorflow.keras.models import load_model\n",
    "from sklearn.metrics import classification_report\n",
    "import numpy as np\n",
    "\n",
    "data_dir = '../data/processed/'\n",
    "\n",
    "# load data\n",
    "X_test = np.load(data_dir + 'X_test_cs_type_pc.npy')\n",
    "y_test = np.load(data_dir + 'y_test_cs_type_pc.npy', allow_pickle=True)\n",
    "\n",
    "# Load previously saved type data\n",
    "types_test = np.load(data_dir + 'types_test_cs_type_pc.npy', allow_pickle=True)\n",
    "\n",
    "# Load model\n",
    "model_cnn_multi_input = load_model('../models/cnn_multi_input_pc_model.h5')\n",
    "\n",
    "# Evaluation model\n",
    "scores = model_cnn_multi_input.evaluate([X_test, types_test], y_test, verbose=0)\n",
    "print(f\"Test Loss: {scores[0]}\")\n",
    "print(f\"Test Accuracy: {scores[1]}\")\n",
    "\n",
    "# predict\n",
    "y_pred = model_cnn_multi_input.predict([X_test, types_test])\n",
    "y_pred_classes = np.argmax(y_pred, axis=1)\n",
    "y_test_classes = np.argmax(y_test, axis=1)\n",
    "\n",
    "# Print Classification Report\n",
    "print(classification_report(y_test_classes, y_pred_classes))\n",
    "\n"
   ]
  },
  {
   "cell_type": "code",
   "execution_count": 19,
   "metadata": {},
   "outputs": [
    {
     "name": "stdout",
     "output_type": "stream",
     "text": [
      "              precision    recall  f1-score   support\n",
      "\n",
      "           0       0.67      0.96      0.79       369\n",
      "           1       0.97      0.30      0.46       117\n",
      "           2       0.97      0.77      0.86        97\n",
      "           3       0.82      0.54      0.65       173\n",
      "\n",
      "    accuracy                           0.74       756\n",
      "   macro avg       0.86      0.64      0.69       756\n",
      "weighted avg       0.79      0.74      0.72       756\n",
      "\n"
     ]
    },
    {
     "data": {
      "image/png": "[encoded data removed]",
      "text/plain": [
       "<Figure size 432x288 with 2 Axes>"
      ]
     },
     "metadata": {
      "needs_background": "light"
     },
     "output_type": "display_data"
    },
    {
     "name": "stdout",
     "output_type": "stream",
     "text": [
      "10/10 [==============================] - 3s 335ms/step - loss: 0.7807 - accuracy: 0.7322\n",
      "Mono Test Loss: 0.7806785702705383, Mono Test Accuracy: 0.7322033643722534\n",
      "15/15 [==============================] - 6s 365ms/step - loss: 0.7269 - accuracy: 0.7440\n",
      "Poly Test Loss: 0.7269461750984192, Poly Test Accuracy: 0.7440347075462341\n"
     ]
    }
   ],
   "source": [
    "from sklearn.metrics import classification_report, confusion_matrix\n",
    "import seaborn as sns\n",
    "import matplotlib.pyplot as plt\n",
    "# Build confusion matrix\n",
    "conf_matrix = confusion_matrix(y_test_classes, y_pred_classes)\n",
    "\n",
    "# Calculate classification report\n",
    "print(classification_report(y_test_classes, y_pred_classes))\n",
    "\n",
    "# Draw confusion matrix\n",
    "sns.heatmap(conf_matrix, annot=True, fmt='d', cmap='Blues')\n",
    "plt.xlabel('Predicted Labels')\n",
    "plt.ylabel('True Labels')\n",
    "plt.show()\n",
    "\n",
    "# Separate mono- and poly-crystal data\n",
    "mono_indices = np.where(types_test == 0)[0]\n",
    "poly_indices = np.where(types_test == 1)[0]\n",
    "\n",
    "X_test_mono = X_test[mono_indices]\n",
    "y_test_mono = y_test[mono_indices]\n",
    "X_test_poly = X_test[poly_indices]\n",
    "y_test_poly = y_test[poly_indices]\n",
    "\n",
    "# Prepare type input\n",
    "type_input_mono = np.zeros((len(X_test_mono), 1))\n",
    "type_input_poly = np.ones((len(X_test_poly), 1))\n",
    "\n",
    "# Evaluate mono-crystal battery images\n",
    "test_loss_mono, test_accuracy_mono = model_cnn_multi_input.evaluate([X_test_mono, type_input_mono], y_test_mono, verbose=1)\n",
    "print(f\"Mono Test Loss: {test_loss_mono}, Mono Test Accuracy: {test_accuracy_mono}\")\n",
    "\n",
    "# Evaluate poly-crystal battery images\n",
    "test_loss_poly, test_accuracy_poly = model_cnn_multi_input.evaluate([X_test_poly, type_input_poly], y_test_poly, verbose=1)\n",
    "print(f\"Poly Test Loss: {test_loss_poly}, Poly Test Accuracy: {test_accuracy_poly}\")"
   ]
  },
  {
   "cell_type": "code",
   "execution_count": null,
   "metadata": {},
   "outputs": [],
   "source": [
    "\"\"\"\n",
    "svm pretest\n",
    "\"\"\"\n",
    "\n",
    "import joblib\n",
    "\n",
    "# 加载SVM模型\n",
    "pipeline_svm = joblib.load('../models/svm_model.joblib')\n",
    "\n",
    "# 展平测试数据集以适配SVM分类器\n",
    "X_test_flat = X_test.reshape((X_test.shape[0], -1))\n",
    "\n",
    "# 将one-hot编码的y_test转换回整数类别标签，如果它是one-hot编码的\n",
    "# 如果y_test已经是整数标签的，请跳过这一步\n",
    "y_test_labels = np.argmax(y_test, axis=1) if y_test.ndim > 1 else y_test\n",
    "\n",
    "# 转换整数标签到字符串标签\n",
    "y_test_labels_str = [reverse_label_mapping[i] for i in y_test_labels]\n",
    "\n",
    "# 使用测试集评估模型\n",
    "y_pred_svm = pipeline_svm.predict(X_test_flat)\n",
    "\n",
    "reverse_label_mapping = {0: '正常', 1: '轻微缺陷', 2: '中度缺陷', 3: '重度缺陷'}\n",
    "\n",
    "y_pred_svm_labels = [reverse_label_mapping[i] for i in y_pred_svm]\n",
    "\n",
    "print(classification_report(y_test_labels_str, y_pred_svm_labels))\n",
    "\n"
   ]
  },
  {
   "cell_type": "code",
   "execution_count": 8,
   "metadata": {},
   "outputs": [
    {
     "name": "stdout",
     "output_type": "stream",
     "text": [
      "24/24 [==============================] - 39s 2s/step - loss: 0.7279 - accuracy: 0.7434\n",
      "Test Loss: 0.7278631329536438\n",
      "Test Accuracy: 0.7433862686157227\n",
      "              precision    recall  f1-score   support\n",
      "\n",
      "           0       0.66      0.99      0.79       369\n",
      "           1       1.00      0.28      0.44       117\n",
      "           2       0.97      0.77      0.86        97\n",
      "           3       0.97      0.51      0.67       173\n",
      "\n",
      "    accuracy                           0.74       756\n",
      "   macro avg       0.90      0.64      0.69       756\n",
      "weighted avg       0.82      0.74      0.72       756\n",
      "\n"
     ]
    },
    {
     "data": {
      "image/png": "[encoded data removed]",
      "text/plain": [
       "<Figure size 432x288 with 2 Axes>"
      ]
     },
     "metadata": {
      "needs_background": "light"
     },
     "output_type": "display_data"
    }
   ],
   "source": [
    "\"agu_trans_model_predict\"\n",
    "\n",
    "from tensorflow.keras.models import load_model\n",
    "from sklearn.metrics import classification_report, confusion_matrix\n",
    "import numpy as np\n",
    "import seaborn as sns\n",
    "import matplotlib.pyplot as plt\n",
    "import os\n",
    "# Set the path to the dataset\n",
    "base_path = os.path.dirname(os.getcwd()) \n",
    "model_path = os.path.join(base_path, 'models/transformer_with_type_aug_model.h5') \n",
    "# moedl_path = \"../models\"\n",
    "# Load model\n",
    "model = load_model(model_path)\n",
    "X_test = np.load('../data/processed/X_test_transformer_types_aug.npy')\n",
    "y_test = np.load('../data/processed/y_test_transformer_types_aug.npy')\n",
    "types_test = np.load('../data/processed/types_test_aug.npy')\n",
    "\n",
    "test_loss, test_accuracy = model.evaluate([X_test, types_test.reshape(-1, 1)], y_test, verbose=1)\n",
    "print(f\"Test Loss: {test_loss}\")\n",
    "print(f\"Test Accuracy: {test_accuracy}\")\n",
    "\n",
    "# predict\n",
    "y_pred = model.predict([X_test, types_test.reshape(-1, 1)])\n",
    "y_pred_classes = np.argmax(y_pred, axis=1)\n",
    "y_true_classes = np.argmax(y_test, axis=1)\n",
    "\n",
    "# Build confusion matrix\n",
    "conf_matrix = confusion_matrix(y_true_classes, y_pred_classes)\n",
    "\n",
    "# Calculate Classification Report\n",
    "print(classification_report(y_true_classes, y_pred_classes))\n",
    "\n",
    "# Plot confusion matrix\n",
    "sns.heatmap(conf_matrix, annot=True, fmt='d', cmap='Blues')\n",
    "plt.xlabel('Predicted Labels')\n",
    "plt.ylabel('True Labels')\n",
    "plt.show()\n",
    "\n"
   ]
  },
  {
   "cell_type": "code",
   "execution_count": 14,
   "metadata": {},
   "outputs": [
    {
     "name": "stdout",
     "output_type": "stream",
     "text": [
      "10/10 [==============================] - 18s 1s/step - loss: 0.7798 - accuracy: 0.7220\n",
      "Mono Test Loss: 0.7797507643699646, Mono Test Accuracy: 0.7220339179039001\n",
      "15/15 [==============================] - 22s 1s/step - loss: 0.6981 - accuracy: 0.7549\n",
      "Poly Test Loss: 0.6980980038642883, Poly Test Accuracy: 0.7548806667327881\n"
     ]
    }
   ],
   "source": [
    "# Separating monocrystalline and polycrystalline data\n",
    "mono_indices = np.where(types_test == 0)[0]\n",
    "poly_indices = np.where(types_test == 1)[0]\n",
    "\n",
    "X_test_mono = X_test[mono_indices]\n",
    "y_test_mono = y_test[mono_indices]\n",
    "X_test_poly = X_test[poly_indices]\n",
    "y_test_poly = y_test[poly_indices]\n",
    "\n",
    "# Preparing type input\n",
    "type_input_mono = np.zeros((len(X_test_mono), 1))\n",
    "type_input_poly = np.ones((len(X_test_poly), 1))\n",
    "\n",
    "# Evaluating monocrystalline cell images\n",
    "test_loss_mono, test_accuracy_mono = model.evaluate([X_test_mono, type_input_mono], y_test_mono, verbose=1)\n",
    "print(f\"Mono Test Loss: {test_loss_mono}, Mono Test Accuracy: {test_accuracy_mono}\")\n",
    "\n",
    "# Evaluating polycrystalline cell images\n",
    "test_loss_poly, test_accuracy_poly = model.evaluate([X_test_poly, type_input_poly], y_test_poly, verbose=1)\n",
    "print(f\"Poly Test Loss: {test_loss_poly}, Poly Test Accuracy: {test_accuracy_poly}\")\n"
   ]
  }
 ],
 "metadata": {
  "kernelspec": {
   "display_name": "ca_tfs",
   "language": "python",
   "name": "python3"
  },
  "language_info": {
   "codemirror_mode": {
    "name": "ipython",
    "version": 3
   },
   "file_extension": ".py",
   "mimetype": "text/x-python",
   "name": "python",
   "nbconvert_exporter": "python",
   "pygments_lexer": "ipython3",
   "version": "3.7.16"
  }
 },
 "nbformat": 4,
 "nbformat_minor": 2
}
