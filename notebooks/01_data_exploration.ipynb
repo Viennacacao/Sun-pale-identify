{
 "cells": [
  {
   "cell_type": "code",
   "execution_count": 1,
   "metadata": {},
   "outputs": [
    {
     "name": "stdout",
     "output_type": "stream",
     "text": [
      "Current working directory: /Users/viennacacao/project_collge/sun_pale2/sun_pale/notebooks\n",
      "Contents of the working directory: ['03_data_preprocessing.ipynb', '01_data_exploration.ipynb', '.DS_Store', '04_model_building_ml.ipynb', '05_model_building_dl.ipynb', '02_data_augmention.ipynb']\n",
      "/Users/viennacacao/project_collge/sun_pale2/sun_pale/data/raw/labels.csv\n",
      "              image_id  probability  type\n",
      "0  images/cell0001.png          1.0  mono\n",
      "1  images/cell0002.png          1.0  mono\n",
      "2  images/cell0003.png          1.0  mono\n",
      "3  images/cell0004.png          0.0  mono\n",
      "4  images/cell0005.png          1.0  mono\n",
      "count    2624.000000\n",
      "mean        0.336890\n",
      "std         0.435324\n",
      "min         0.000000\n",
      "25%         0.000000\n",
      "50%         0.000000\n",
      "75%         1.000000\n",
      "max         1.000000\n",
      "Name: probability, dtype: float64\n",
      "poly    1550\n",
      "mono    1074\n",
      "Name: type, dtype: int64\n"
     ]
    },
    {
     "data": {
      "image/png": "[encoded data removed]",
      "text/plain": [
       "<Figure size 432x288 with 1 Axes>"
      ]
     },
     "metadata": {
      "needs_background": "light"
     },
     "output_type": "display_data"
    },
    {
     "data": {
      "image/png": "[encoded data removed]",
      "text/plain": [
       "<Figure size 432x288 with 1 Axes>"
      ]
     },
     "metadata": {
      "needs_background": "light"
     },
     "output_type": "display_data"
    }
   ],
   "source": [
    "import pandas as pd\n",
    "import os\n",
    "from PIL import Image\n",
    "import matplotlib.pyplot as plt\n",
    "import sys\n",
    "sys.path.append('../')\n",
    "import os\n",
    "\n",
    "# Print the current working directory\n",
    "print(f\"Current working directory: {os.getcwd()}\")\n",
    "\n",
    "# List the contents of the working directory\n",
    "print(f\"Contents of the working directory: {os.listdir('.')}\")\n",
    "\n",
    "# Set the path to the dataset\n",
    "# dataset_path = '../data/raw/images'\n",
    "# labels_file = '../data/raw/labels.csv'\n",
    "\n",
    "# Set the path to the dataset\n",
    "base_path = os.path.dirname(os.getcwd())  # If notebook is in 'notebooks/' directory, this will return 'project/'\n",
    "labels_path = os.path.join(base_path, 'data/raw/labels.csv')\n",
    "\n",
    "# Ensure the path is correct and accessible\n",
    "assert os.path.isfile(labels_path), f\"File not found: {labels_path}\"\n",
    "\n",
    "print(labels_path)\n",
    "# Load the file and specify column names\n",
    "labels_df = pd.read_csv(labels_path, names=['image_id', 'probability', 'type'], sep='\\s+')\n",
    "\n",
    "# Display the first few rows of the labels file to understand the data structure\n",
    "print(labels_df.head())\n",
    "\n",
    "# Analyze the label distribution\n",
    "print(labels_df['probability'].describe())\n",
    "\n",
    "# Analyze the type distribution\n",
    "print(labels_df['type'].value_counts())\n",
    "\n",
    "# Visualize the distribution of defect probabilities\n",
    "plt.hist(labels_df['probability'], bins=50)\n",
    "plt.title('Distribution of Defect Probabilities')\n",
    "plt.xlabel('Defect Probability')\n",
    "plt.ylabel('Frequency')\n",
    "plt.show()\n",
    "\n",
    "# Visualize the distribution of cell types\n",
    "labels_df['type'].value_counts().plot(kind='bar')\n",
    "plt.title('Distribution of Cell Types')\n",
    "plt.xlabel('Cell Type')\n",
    "plt.ylabel('Frequency')\n",
    "plt.show()\n"
   ]
  },
  {
   "cell_type": "code",
   "execution_count": 2,
   "metadata": {},
   "outputs": [
    {
     "name": "stdout",
     "output_type": "stream",
     "text": [
      "Mono ids in range: ['images/cell0058.png', 'images/cell0387.png', 'images/cell0393.png', 'images/cell0398.png', 'images/cell0427.png', 'images/cell0434.png', 'images/cell0443.png', 'images/cell0448.png', 'images/cell0449.png', 'images/cell0450.png', 'images/cell0458.png', 'images/cell0461.png', 'images/cell0462.png', 'images/cell0469.png', 'images/cell0476.png', 'images/cell0478.png', 'images/cell0480.png', 'images/cell0483.png', 'images/cell0484.png', 'images/cell0485.png', 'images/cell0486.png', 'images/cell0507.png', 'images/cell0509.png', 'images/cell0510.png', 'images/cell0514.png', 'images/cell0515.png', 'images/cell0516.png', 'images/cell0527.png', 'images/cell0535.png', 'images/cell0538.png', 'images/cell0540.png', 'images/cell0927.png', 'images/cell0930.png', 'images/cell0985.png', 'images/cell0986.png', 'images/cell1200.png', 'images/cell1206.png', 'images/cell1222.png', 'images/cell1257.png', 'images/cell1285.png', 'images/cell1287.png', 'images/cell1288.png', 'images/cell1290.png', 'images/cell1329.png', 'images/cell1330.png', 'images/cell1337.png', 'images/cell1345.png', 'images/cell1349.png', 'images/cell1366.png', 'images/cell1370.png', 'images/cell1371.png', 'images/cell1437.png', 'images/cell1462.png', 'images/cell1476.png', 'images/cell1478.png', 'images/cell1498.png', 'images/cell1532.png', 'images/cell1554.png', 'images/cell1555.png', 'images/cell1581.png', 'images/cell2197.png', 'images/cell2201.png', 'images/cell2403.png']\n",
      "Poly ids in range: ['images/cell0118.png', 'images/cell0147.png', 'images/cell0153.png', 'images/cell0158.png', 'images/cell0187.png', 'images/cell0194.png', 'images/cell0203.png', 'images/cell0208.png', 'images/cell0209.png', 'images/cell0210.png', 'images/cell0218.png', 'images/cell0221.png', 'images/cell0222.png', 'images/cell0229.png', 'images/cell0236.png', 'images/cell0238.png', 'images/cell0240.png', 'images/cell0243.png', 'images/cell0244.png', 'images/cell0245.png', 'images/cell0246.png', 'images/cell0267.png', 'images/cell0269.png', 'images/cell0270.png', 'images/cell0274.png', 'images/cell0275.png', 'images/cell0276.png', 'images/cell0287.png', 'images/cell0295.png', 'images/cell0298.png', 'images/cell0300.png', 'images/cell0327.png', 'images/cell0330.png', 'images/cell0565.png', 'images/cell0566.png', 'images/cell0780.png', 'images/cell0786.png', 'images/cell0802.png', 'images/cell0837.png', 'images/cell0865.png', 'images/cell0867.png', 'images/cell0868.png', 'images/cell0870.png', 'images/cell1623.png', 'images/cell1624.png', 'images/cell1631.png', 'images/cell1639.png', 'images/cell1643.png', 'images/cell1660.png', 'images/cell1664.png', 'images/cell1665.png', 'images/cell1731.png', 'images/cell1756.png', 'images/cell1770.png', 'images/cell1772.png', 'images/cell1792.png', 'images/cell1826.png', 'images/cell1848.png', 'images/cell1849.png', 'images/cell1875.png', 'images/cell1961.png', 'images/cell1965.png', 'images/cell1987.png', 'images/cell2036.png', 'images/cell2075.png', 'images/cell2076.png', 'images/cell2077.png', 'images/cell2078.png', 'images/cell2079.png', 'images/cell2084.png', 'images/cell2095.png', 'images/cell2105.png', 'images/cell2113.png', 'images/cell2114.png', 'images/cell2122.png', 'images/cell2144.png', 'images/cell2230.png', 'images/cell2235.png', 'images/cell2250.png', 'images/cell2285.png', 'images/cell2290.png', 'images/cell2305.png', 'images/cell2306.png', 'images/cell2307.png', 'images/cell2308.png', 'images/cell2309.png', 'images/cell2310.png', 'images/cell2321.png', 'images/cell2322.png', 'images/cell2323.png', 'images/cell2324.png', 'images/cell2325.png', 'images/cell2326.png', 'images/cell2327.png', 'images/cell2328.png', 'images/cell2330.png', 'images/cell2346.png', 'images/cell2351.png', 'images/cell2352.png', 'images/cell2353.png', 'images/cell2354.png', 'images/cell2355.png', 'images/cell2356.png', 'images/cell2357.png', 'images/cell2358.png', 'images/cell2359.png', 'images/cell2360.png', 'images/cell2371.png', 'images/cell2372.png', 'images/cell2373.png', 'images/cell2380.png', 'images/cell2391.png', 'images/cell2392.png', 'images/cell2393.png', 'images/cell2394.png', 'images/cell2395.png', 'images/cell2396.png', 'images/cell2445.png', 'images/cell2446.png', 'images/cell2447.png', 'images/cell2451.png', 'images/cell2452.png', 'images/cell2460.png', 'images/cell2461.png', 'images/cell2462.png', 'images/cell2469.png', 'images/cell2471.png', 'images/cell2472.png', 'images/cell2477.png', 'images/cell2478.png', 'images/cell2486.png', 'images/cell2487.png', 'images/cell2488.png', 'images/cell2503.png', 'images/cell2504.png', 'images/cell2505.png', 'images/cell2506.png', 'images/cell2507.png', 'images/cell2508.png', 'images/cell2511.png', 'images/cell2522.png', 'images/cell2524.png', 'images/cell2525.png', 'images/cell2526.png', 'images/cell2530.png', 'images/cell2540.png', 'images/cell2542.png', 'images/cell2550.png', 'images/cell2551.png', 'images/cell2557.png', 'images/cell2560.png', 'images/cell2561.png', 'images/cell2566.png', 'images/cell2568.png', 'images/cell2586.png', 'images/cell2605.png', 'images/cell2614.png']\n"
     ]
    }
   ],
   "source": [
    "# Set the path to the dataset\n",
    "base_path = os.path.dirname(os.getcwd())  # If notebook is in 'notebooks/' directory, this will return 'project/'\n",
    "labels_path = os.path.join(base_path, 'data/raw/labels.csv')\n",
    "\n",
    "# Ensure the path is correct and accessible\n",
    "assert os.path.isfile(labels_path), f\"File not found: {labels_path}\"\n",
    "\n",
    "# Load the file and specify column names\n",
    "labels_df = pd.read_csv(labels_path, names=['image_id', 'probability', 'type'], sep='\\s+')\n",
    "\n",
    "# Get the IDs of mono and poly images\n",
    "mono_ids = labels_df[labels_df['type'] == 'mono']['image_id'].tolist()\n",
    "poly_ids = labels_df[labels_df['type'] == 'poly']['image_id'].tolist()\n",
    "\n",
    "# Get the IDs of images with probabilities in the range [0.3, 0.4]\n",
    "probabilities = labels_df['probability'].tolist()\n",
    "mono_ids_in_range = [id for id, prob in zip(mono_ids, probabilities) if 0.3 <= prob <= 0.4]\n",
    "poly_ids_in_range = [id for id, prob in zip(poly_ids, probabilities) if 0.3 <= prob <= 0.4]\n",
    "\n",
    "# Print the results\n",
    "print(\"Mono ids in range:\", mono_ids_in_range)\n",
    "print(\"Poly ids in range:\", poly_ids_in_range)"
   ]
  }
 ],
 "metadata": {
  "kernelspec": {
   "display_name": "ca_tfs",
   "language": "python",
   "name": "python3"
  },
  "language_info": {
   "codemirror_mode": {
    "name": "ipython",
    "version": 3
   },
   "file_extension": ".py",
   "mimetype": "text/x-python",
   "name": "python",
   "nbconvert_exporter": "python",
   "pygments_lexer": "ipython3",
   "version": "3.7.16"
  }
 },
 "nbformat": 4,
 "nbformat_minor": 2
}
